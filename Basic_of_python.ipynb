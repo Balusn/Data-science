{
 "cells": [
  {
   "cell_type": "markdown",
   "id": "2e7f39f8-53cf-4818-b71c-aa49a244f3a6",
   "metadata": {},
   "source": [
    "## Prime_number"
   ]
  },
  {
   "cell_type": "code",
   "execution_count": 2,
   "id": "6efd1712-c9cb-466f-81b5-6f0e9049791d",
   "metadata": {},
   "outputs": [
    {
     "name": "stdin",
     "output_type": "stream",
     "text": [
      "enter any number to check whether it is prime or not:  27\n"
     ]
    },
    {
     "name": "stdout",
     "output_type": "stream",
     "text": [
      "27 is not a prime number\n"
     ]
    }
   ],
   "source": [
    "num = int(input('enter any number to check whether it is prime or not: '))\n",
    "\n",
    "if num <2:\n",
    "    print(num, 'is not a prime number')\n",
    "\n",
    "else:\n",
    "    for i in range (2 , num):\n",
    "        if (num % 1) == 0:\n",
    "            print(num,'is not a prime number')\n",
    "            break\n",
    "\n",
    "        else:\n",
    "            print(num,'is a prime number')"
   ]
  },
  {
   "cell_type": "code",
   "execution_count": 4,
   "id": "f8a1e853-6bbc-4998-9961-8666ec377f2c",
   "metadata": {},
   "outputs": [
    {
     "name": "stdin",
     "output_type": "stream",
     "text": [
      "enter any number to check whether it is prime or not:  99\n"
     ]
    },
    {
     "name": "stdout",
     "output_type": "stream",
     "text": [
      "99 is not a prime number\n"
     ]
    }
   ],
   "source": [
    "num = int(input('enter any number to check whether it is prime or not: '))\n",
    "\n",
    "if num <2:\n",
    "    print(num, 'is not a prime number')\n",
    "\n",
    "else:\n",
    "    for i in range (2 , num):\n",
    "        if (num % 1) == 0:\n",
    "            print(num,'is not a prime number')\n",
    "            break\n",
    "\n",
    "        else:\n",
    "            print(num,'is a prime number')"
   ]
  },
  {
   "cell_type": "markdown",
   "id": "fc13ad3c-2d5f-406e-9ff1-5c223f43141c",
   "metadata": {},
   "source": [
    "## Product of Random Numbers"
   ]
  },
  {
   "cell_type": "code",
   "execution_count": 8,
   "id": "53a76d8b-ec91-4fec-a18f-42e40226d1bf",
   "metadata": {},
   "outputs": [],
   "source": [
    "import random"
   ]
  },
  {
   "cell_type": "code",
   "execution_count": 12,
   "id": "177e2aa5-259a-4626-96ec-ebf7783567c9",
   "metadata": {},
   "outputs": [],
   "source": [
    "number1 = random.randint(1,10)\n",
    "number2 = random.randint(1,10)"
   ]
  },
  {
   "cell_type": "code",
   "execution_count": 14,
   "id": "b31835c8-cc58-4842-b185-376409761709",
   "metadata": {},
   "outputs": [
    {
     "data": {
      "text/plain": [
       "8"
      ]
     },
     "execution_count": 14,
     "metadata": {},
     "output_type": "execute_result"
    }
   ],
   "source": [
    "number1"
   ]
  },
  {
   "cell_type": "code",
   "execution_count": 16,
   "id": "4e22d870-1bd4-49f4-9c85-479913c7fa3d",
   "metadata": {},
   "outputs": [
    {
     "data": {
      "text/plain": [
       "4"
      ]
     },
     "execution_count": 16,
     "metadata": {},
     "output_type": "execute_result"
    }
   ],
   "source": [
    "number2"
   ]
  },
  {
   "cell_type": "code",
   "execution_count": 20,
   "id": "f4a9ea59-effb-4be6-a795-5c7296edeaac",
   "metadata": {},
   "outputs": [
    {
     "data": {
      "text/plain": [
       "32"
      ]
     },
     "execution_count": 20,
     "metadata": {},
     "output_type": "execute_result"
    }
   ],
   "source": [
    "product = number1*number2\n",
    "product"
   ]
  },
  {
   "cell_type": "markdown",
   "id": "fa0b1551-7e25-48af-8c1a-482e6f5a7025",
   "metadata": {},
   "source": [
    "## Squares of Even/Odd Numbers"
   ]
  },
  {
   "cell_type": "code",
   "execution_count": 23,
   "id": "8f4dd3b2-f3f9-4414-9494-36e287d60b41",
   "metadata": {},
   "outputs": [],
   "source": [
    "start = 100\n",
    "end = 200"
   ]
  },
  {
   "cell_type": "code",
   "execution_count": 25,
   "id": "aeabb411-dce4-4fe1-8b2f-e2935e39a6dc",
   "metadata": {},
   "outputs": [
    {
     "name": "stdout",
     "output_type": "stream",
     "text": [
      "squares of even numbers between 100 and 200:\n"
     ]
    }
   ],
   "source": [
    "print('squares of even numbers between 100 and 200:')"
   ]
  },
  {
   "cell_type": "code",
   "execution_count": 29,
   "id": "1b243948-3788-4792-bdb7-8f39ad12d5b6",
   "metadata": {},
   "outputs": [
    {
     "name": "stdout",
     "output_type": "stream",
     "text": [
      "the square of 100 is 10000\n",
      "the square of 102 is 10404\n",
      "the square of 104 is 10816\n",
      "the square of 106 is 11236\n",
      "the square of 108 is 11664\n",
      "the square of 110 is 12100\n",
      "the square of 112 is 12544\n",
      "the square of 114 is 12996\n",
      "the square of 116 is 13456\n",
      "the square of 118 is 13924\n",
      "the square of 120 is 14400\n",
      "the square of 122 is 14884\n",
      "the square of 124 is 15376\n",
      "the square of 126 is 15876\n",
      "the square of 128 is 16384\n",
      "the square of 130 is 16900\n",
      "the square of 132 is 17424\n",
      "the square of 134 is 17956\n",
      "the square of 136 is 18496\n",
      "the square of 138 is 19044\n",
      "the square of 140 is 19600\n",
      "the square of 142 is 20164\n",
      "the square of 144 is 20736\n",
      "the square of 146 is 21316\n",
      "the square of 148 is 21904\n",
      "the square of 150 is 22500\n",
      "the square of 152 is 23104\n",
      "the square of 154 is 23716\n",
      "the square of 156 is 24336\n",
      "the square of 158 is 24964\n",
      "the square of 160 is 25600\n",
      "the square of 162 is 26244\n",
      "the square of 164 is 26896\n",
      "the square of 166 is 27556\n",
      "the square of 168 is 28224\n",
      "the square of 170 is 28900\n",
      "the square of 172 is 29584\n",
      "the square of 174 is 30276\n",
      "the square of 176 is 30976\n",
      "the square of 178 is 31684\n",
      "the square of 180 is 32400\n",
      "the square of 182 is 33124\n",
      "the square of 184 is 33856\n",
      "the square of 186 is 34596\n",
      "the square of 188 is 35344\n",
      "the square of 190 is 36100\n",
      "the square of 192 is 36864\n",
      "the square of 194 is 37636\n",
      "the square of 196 is 38416\n",
      "the square of 198 is 39204\n",
      "the square of 200 is 40000\n"
     ]
    }
   ],
   "source": [
    "for number in range(start, end + 1):\n",
    "    if number % 2 == 0: \n",
    "        square = number ** 2\n",
    "        print(f'the square of {number} is {square}')"
   ]
  },
  {
   "cell_type": "markdown",
   "id": "4e37581b-a1d8-43ee-98d5-09638b057a7a",
   "metadata": {},
   "source": [
    "## Word counter"
   ]
  },
  {
   "cell_type": "code",
   "execution_count": 51,
   "id": "59e2decb-51fc-4f1d-8881-d0700390ff1c",
   "metadata": {},
   "outputs": [
    {
     "name": "stdout",
     "output_type": "stream",
     "text": [
      "'i': 2\n",
      "'like': 1\n",
      "'python': 2\n",
      "'programming': 2\n",
      "'am': 1\n",
      "'learning': 1\n"
     ]
    }
   ],
   "source": [
    "def word_counter(input_text):\n",
    "    # Split the input text into words\n",
    "    words = input_text.split()\n",
    "\n",
    "    # Create a dictionary to store word counts\n",
    "    word_count = {}\n",
    "\n",
    "    # Count the occurrences of each word\n",
    "    for word in words:\n",
    "        # Remove punctuation from the word\n",
    "        word = word.strip('.,!?:;\"\\'').lower()\n",
    "        # Increment the count for the word\n",
    "        word_count[word] = word_count.get(word, 0) + 1\n",
    "\n",
    "    # Print the word counts\n",
    "    for word, count in word_count.items():\n",
    "        print(f\"'{word}': {count}\")\n",
    "input_text = 'I like python programming. I am learning python programming.'\n",
    "word_counter(input_text)"
   ]
  },
  {
   "cell_type": "markdown",
   "id": "ac3d009c-ac80-45b7-9317-e6bc2abf70ad",
   "metadata": {},
   "source": [
    "## Check for Palindrome"
   ]
  },
  {
   "cell_type": "code",
   "execution_count": 1,
   "id": "50b0029d-f89b-4e3d-84db-40e8d158b061",
   "metadata": {},
   "outputs": [
    {
     "name": "stdout",
     "output_type": "stream",
     "text": [
      "True\n"
     ]
    }
   ],
   "source": [
    "def is_palindrome(s):\n",
    "    # Convert the string to lowercase and remove spaces and punctuation\n",
    "    s = ''.join(char.lower() for char in s if char.isalnum())\n",
    "\n",
    "    # Check if the string is equal to its reverse\n",
    "    return s == s[::-1]\n",
    "\n",
    "# Example usage\n",
    "input_str = 'rotor'\n",
    "print(is_palindrome(input_str))"
   ]
  },
  {
   "cell_type": "code",
   "execution_count": null,
   "id": "fbcdea87-ad08-4ee7-9d17-ca9f1908b4ff",
   "metadata": {},
   "outputs": [],
   "source": []
  }
 ],
 "metadata": {
  "kernelspec": {
   "display_name": "Python 3 (ipykernel)",
   "language": "python",
   "name": "python3"
  },
  "language_info": {
   "codemirror_mode": {
    "name": "ipython",
    "version": 3
   },
   "file_extension": ".py",
   "mimetype": "text/x-python",
   "name": "python",
   "nbconvert_exporter": "python",
   "pygments_lexer": "ipython3",
   "version": "3.12.4"
  }
 },
 "nbformat": 4,
 "nbformat_minor": 5
}

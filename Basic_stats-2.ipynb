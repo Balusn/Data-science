{
 "cells": [
  {
   "cell_type": "markdown",
   "id": "f9986141-c3f3-435d-8b67-659cecc49d51",
   "metadata": {},
   "source": [
    "## Estimation And Confidence Intervals"
   ]
  },
  {
   "cell_type": "code",
   "execution_count": 30,
   "id": "d6be6405-0e06-4c72-94b6-97c73e45b73a",
   "metadata": {},
   "outputs": [],
   "source": [
    "import numpy as np\n",
    "import scipy.stats as stats\n",
    "import numpy as np\n",
    "from scipy.stats import t"
   ]
  },
  {
   "cell_type": "code",
   "execution_count": 32,
   "id": "da181124-de1f-4e78-b67d-89f46a726219",
   "metadata": {},
   "outputs": [],
   "source": [
    "# Sample data\n",
    "data = np.array([1.13, 1.55, 1.43, 0.92, 1.25, 1.36, 1.32, 0.85, 1.07, 1.48, 1.20, 1.33, 1.18, 1.22, 1.29])\n",
    "sample_mean = np.mean(data)\n",
    "sample_std = np.std(data, ddof=1)  # ddof=1 for sample standard deviation\n",
    "sample_size = len(data)"
   ]
  },
  {
   "cell_type": "code",
   "execution_count": 36,
   "id": "d28b0511-24e0-43c7-a376-fe5f566e3c01",
   "metadata": {},
   "outputs": [
    {
     "data": {
      "text/plain": [
       "1.2386666666666666"
      ]
     },
     "execution_count": 36,
     "metadata": {},
     "output_type": "execute_result"
    }
   ],
   "source": [
    "sample_mean"
   ]
  },
  {
   "cell_type": "code",
   "execution_count": 38,
   "id": "79b4a3a7-19c7-460c-8473-8512eb352cab",
   "metadata": {},
   "outputs": [
    {
     "data": {
      "text/plain": [
       "0.19316412956959936"
      ]
     },
     "execution_count": 38,
     "metadata": {},
     "output_type": "execute_result"
    }
   ],
   "source": [
    "sample_std "
   ]
  },
  {
   "cell_type": "code",
   "execution_count": 40,
   "id": "12814ada-3aff-406d-85af-e5e7280ed780",
   "metadata": {},
   "outputs": [
    {
     "data": {
      "text/plain": [
       "15"
      ]
     },
     "execution_count": 40,
     "metadata": {},
     "output_type": "execute_result"
    }
   ],
   "source": [
    "sample_size"
   ]
  },
  {
   "cell_type": "code",
   "execution_count": 42,
   "id": "352bbf53-66b8-4d2d-ae90-9b89d4541259",
   "metadata": {},
   "outputs": [],
   "source": [
    "# a. Confidence interval using sample standard deviation\n",
    "confidence_level = 0.99\n",
    "alpha = 1 - confidence_level\n",
    "t_value = t.ppf(1 - alpha/2, df=sample_size - 1)\n",
    "margin_of_error = t_value * sample_std / np.sqrt(sample_size)\n",
    "confidence_interval_a = (sample_mean - margin_of_error, sample_mean + margin_of_error)"
   ]
  },
  {
   "cell_type": "code",
   "execution_count": 44,
   "id": "8d300dab-cc17-4ce2-bc76-7d4ce17f8925",
   "metadata": {},
   "outputs": [
    {
     "data": {
      "text/plain": [
       "(1.0901973384384906, 1.3871359948948425)"
      ]
     },
     "execution_count": 44,
     "metadata": {},
     "output_type": "execute_result"
    }
   ],
   "source": [
    "confidence_interval_a"
   ]
  },
  {
   "cell_type": "code",
   "execution_count": 46,
   "id": "ff79dc4f-c13a-46e7-bdc2-27e9663d81a0",
   "metadata": {},
   "outputs": [],
   "source": [
    "# b. Confidence interval using known population standard deviation\n",
    "population_std = 0.2\n",
    "z_value = t.ppf(1 - alpha/2, df=sample_size - 1)  # Using t-distribution for small sample size\n",
    "margin_of_error_b = z_value * population_std / np.sqrt(sample_size)\n",
    "confidence_interval_b = (sample_mean - margin_of_error_b, sample_mean + margin_of_error_b)"
   ]
  },
  {
   "cell_type": "code",
   "execution_count": 48,
   "id": "c036a572-982b-4541-af4c-4962b2425815",
   "metadata": {},
   "outputs": [
    {
     "name": "stdout",
     "output_type": "stream",
     "text": [
      "a. Confidence Interval Using Sample Standard Deviation: (1.0901973384384906, 1.3871359948948425)\n",
      "b. Confidence Interval Using Known Population Standard Deviation: (1.0849431688733762, 1.392390164459957)\n"
     ]
    }
   ],
   "source": [
    "print(\"a. Confidence Interval Using Sample Standard Deviation:\", confidence_interval_a)\n",
    "print(\"b. Confidence Interval Using Known Population Standard Deviation:\", confidence_interval_b)"
   ]
  },
  {
   "cell_type": "code",
   "execution_count": null,
   "id": "1cb01238-a63b-450b-866f-93b86cf05efe",
   "metadata": {},
   "outputs": [],
   "source": []
  }
 ],
 "metadata": {
  "kernelspec": {
   "display_name": "Python 3 (ipykernel)",
   "language": "python",
   "name": "python3"
  },
  "language_info": {
   "codemirror_mode": {
    "name": "ipython",
    "version": 3
   },
   "file_extension": ".py",
   "mimetype": "text/x-python",
   "name": "python",
   "nbconvert_exporter": "python",
   "pygments_lexer": "ipython3",
   "version": "3.12.4"
  }
 },
 "nbformat": 4,
 "nbformat_minor": 5
}

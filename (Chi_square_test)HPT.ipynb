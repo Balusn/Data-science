{
 "cells": [
  {
   "cell_type": "markdown",
   "id": "9c2bf80e-5ebc-41cf-a4cc-41275cbfce28",
   "metadata": {},
   "source": [
    "## Chi_square"
   ]
  },
  {
   "cell_type": "code",
   "execution_count": 2,
   "id": "fa445567-1f33-4509-861e-44ee2cd9f0cd",
   "metadata": {},
   "outputs": [],
   "source": [
    "import numpy as np\n",
    "from scipy.stats import chi2_contingency"
   ]
  },
  {
   "cell_type": "code",
   "execution_count": 6,
   "id": "bb3290ec-7a79-41c9-b7cb-471af78acdc3",
   "metadata": {},
   "outputs": [],
   "source": [
    "# Contingency table data\n",
    "observed = np.array([[50, 70],\n",
    "                     [80, 100],\n",
    "                     [60, 90],\n",
    "                     [30, 50],\n",
    "                     [20, 50]])"
   ]
  },
  {
   "cell_type": "code",
   "execution_count": 8,
   "id": "a53b8b5d-4f13-425f-8a10-78a0bcb23000",
   "metadata": {},
   "outputs": [],
   "source": [
    "# Perform chi-square test for independence\n",
    "chi2, p, dof, expected = chi2_contingency(observed)"
   ]
  },
  {
   "cell_type": "code",
   "execution_count": 10,
   "id": "e5045334-2851-496d-a0e2-628697dd4a5b",
   "metadata": {},
   "outputs": [
    {
     "name": "stdout",
     "output_type": "stream",
     "text": [
      "Chi-Square Statistic: 5.638227513227513\n",
      "Degrees of Freedom: 4\n",
      "p-value: 0.22784371130697179\n"
     ]
    }
   ],
   "source": [
    "# Print results\n",
    "print(\"Chi-Square Statistic:\", chi2)\n",
    "print(\"Degrees of Freedom:\", dof)\n",
    "print(\"p-value:\", p)"
   ]
  },
  {
   "cell_type": "code",
   "execution_count": 12,
   "id": "becf3f5e-55ee-4b1e-9996-e19a77567217",
   "metadata": {},
   "outputs": [
    {
     "name": "stdout",
     "output_type": "stream",
     "text": [
      "Critical Value: 0.0\n"
     ]
    }
   ],
   "source": [
    "# Determine critical value\n",
    "alpha = 0.05\n",
    "critical_value = chi2_contingency(np.array([[1, 1], [1, 1]]))[0]  # Degrees of freedom = (rows - 1) * (columns - 1)\n",
    "print(\"Critical Value:\", critical_value)"
   ]
  },
  {
   "cell_type": "code",
   "execution_count": 16,
   "id": "c6647aae-229b-411c-b320-1079874ee921",
   "metadata": {},
   "outputs": [
    {
     "name": "stdout",
     "output_type": "stream",
     "text": [
      "Reject the null hypothesis: There is a significant association between device type and customer satisfaction.\n"
     ]
    }
   ],
   "source": [
    "# Make a decision\n",
    "# Comparing the Chi-Square statistic with the critical value to decide whether to reject the null hypothesis.\n",
    "if chi2 > critical_value:\n",
    "    print(\"Reject the null hypothesis: There is a significant association between device type and customer satisfaction.\")\n",
    "else:\n",
    "    print(\"Fail to reject the null hypothesis: There is no significant association between device type and customer satisfaction.\")"
   ]
  },
  {
   "cell_type": "code",
   "execution_count": null,
   "id": "157e23ec-f9fc-4926-9a1a-12c22e890906",
   "metadata": {},
   "outputs": [],
   "source": []
  }
 ],
 "metadata": {
  "kernelspec": {
   "display_name": "Python 3 (ipykernel)",
   "language": "python",
   "name": "python3"
  },
  "language_info": {
   "codemirror_mode": {
    "name": "ipython",
    "version": 3
   },
   "file_extension": ".py",
   "mimetype": "text/x-python",
   "name": "python",
   "nbconvert_exporter": "python",
   "pygments_lexer": "ipython3",
   "version": "3.12.4"
  }
 },
 "nbformat": 4,
 "nbformat_minor": 5
}

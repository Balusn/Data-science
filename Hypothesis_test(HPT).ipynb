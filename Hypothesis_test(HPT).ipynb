{
 "cells": [
  {
   "cell_type": "markdown",
   "id": "93712401-d571-4742-ba7a-8c7a75e2fd83",
   "metadata": {},
   "source": [
    "## HYPOTHESIS TESTING"
   ]
  },
  {
   "cell_type": "code",
   "execution_count": 2,
   "id": "608199e7-90cd-4116-a837-74aeee05aa09",
   "metadata": {},
   "outputs": [],
   "source": [
    "import numpy as np\n",
    "from scipy.stats import t"
   ]
  },
  {
   "cell_type": "code",
   "execution_count": 4,
   "id": "21098ecc-589f-4605-8338-90f06411d33a",
   "metadata": {},
   "outputs": [],
   "source": [
    "# Given data\n",
    "sample_mean = 3050  # sample mean weekly cost (Rs.)\n",
    "theoretical_mean = 1000 + 5 * 600  # theoretical mean weekly cost according to the cost model (W = $1,000 + $5X for X = 600 units)\n",
    "standard_deviation = 5 * 25  # standard deviation of the population\n",
    "sample_size = 25  # sample size\n",
    "alpha = 0.05  # significance level"
   ]
  },
  {
   "cell_type": "code",
   "execution_count": 6,
   "id": "2c2c4ff3-c734-4779-84a9-b9e5150c18f0",
   "metadata": {},
   "outputs": [],
   "source": [
    "# Calculate the test statistic (t)\n",
    "standard_error = standard_deviation / np.sqrt(sample_size)\n",
    "t_statistic = (sample_mean - theoretical_mean) / standard_error"
   ]
  },
  {
   "cell_type": "code",
   "execution_count": 8,
   "id": "94b86dc4-d352-41f9-9634-1c004f83444c",
   "metadata": {},
   "outputs": [
    {
     "name": "stdout",
     "output_type": "stream",
     "text": [
      "standard error 25.0\n",
      "t statistic -38.0\n"
     ]
    }
   ],
   "source": [
    "print(\"standard error\",standard_error)\n",
    "print(\"t statistic\",t_statistic)"
   ]
  },
  {
   "cell_type": "code",
   "execution_count": 10,
   "id": "2ed3aa46-efcd-46f4-9b00-2f83c13b7159",
   "metadata": {},
   "outputs": [],
   "source": [
    "# Determine the critical value from the t-distribution\n",
    "degrees_of_freedom = sample_size - 1\n",
    "critical_value = t.ppf(1 - alpha, degrees_of_freedom)"
   ]
  },
  {
   "cell_type": "code",
   "execution_count": 12,
   "id": "867b7b6f-f422-4eaa-a079-021547b407be",
   "metadata": {},
   "outputs": [
    {
     "data": {
      "text/plain": [
       "1.7108820799094275"
      ]
     },
     "execution_count": 12,
     "metadata": {},
     "output_type": "execute_result"
    }
   ],
   "source": [
    "critical_value"
   ]
  },
  {
   "cell_type": "code",
   "execution_count": 22,
   "id": "fe11d744-e0de-4d43-bc93-e53c09ef5c7a",
   "metadata": {},
   "outputs": [
    {
     "name": "stdout",
     "output_type": "stream",
     "text": [
      "Fail to reject the null hypothesis: there is no strong evidence to support the restaurant owners claim that the weekly operating costs are higher than the model suggests.\n"
     ]
    }
   ],
   "source": [
    "# Make a decision\n",
    "# Compare the test statistic with the critical value to decide whether to reject the null hypothesis.\n",
    "if t_statistic > critical_value:\n",
    "    print('Reject the null hypothesis: there is strong evidence to support the restaurant owners claim that the weekly operating costs are higher than the model suggests.')\n",
    "else:\n",
    "    print('Fail to reject the null hypothesis: there is no strong evidence to support the restaurant owners claim that the weekly operating costs are higher than the model suggests.')"
   ]
  },
  {
   "cell_type": "code",
   "execution_count": null,
   "id": "68ba8711-5455-49b5-8e97-f68657200de0",
   "metadata": {},
   "outputs": [],
   "source": []
  }
 ],
 "metadata": {
  "kernelspec": {
   "display_name": "Python 3 (ipykernel)",
   "language": "python",
   "name": "python3"
  },
  "language_info": {
   "codemirror_mode": {
    "name": "ipython",
    "version": 3
   },
   "file_extension": ".py",
   "mimetype": "text/x-python",
   "name": "python",
   "nbconvert_exporter": "python",
   "pygments_lexer": "ipython3",
   "version": "3.12.4"
  }
 },
 "nbformat": 4,
 "nbformat_minor": 5
}
